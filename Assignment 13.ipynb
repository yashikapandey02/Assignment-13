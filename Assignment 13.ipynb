{
 "cells": [
  {
   "cell_type": "code",
   "execution_count": null,
   "id": "e3bdabe5",
   "metadata": {},
   "outputs": [],
   "source": [
    "1. What advantages do Excel spreadsheets have over CSV spreadsheets?"
   ]
  },
  {
   "cell_type": "code",
   "execution_count": null,
   "id": "b84256a9",
   "metadata": {},
   "outputs": [],
   "source": [
    "Ans:In Excel, spreadsheets can have values of datatypes other than strings; cells can have different fonts, sizes, or color settings; cells can have varying widths and heights; \n",
    "    adjecent cells can be merged; and we can embed images and charts."
   ]
  },
  {
   "cell_type": "code",
   "execution_count": null,
   "id": "cb2ca102",
   "metadata": {},
   "outputs": [],
   "source": [
    "2.What do you pass to csv.reader() and csv.writer() to create reader and writer objects?"
   ]
  },
  {
   "cell_type": "code",
   "execution_count": null,
   "id": "655eacd0",
   "metadata": {},
   "outputs": [],
   "source": [
    "Ans:We pass a file object, obtained from call to open()."
   ]
  },
  {
   "cell_type": "code",
   "execution_count": null,
   "id": "3e133234",
   "metadata": {},
   "outputs": [],
   "source": [
    "3. What modes do File objects for reader and writer objects need to be opened in?"
   ]
  },
  {
   "cell_type": "code",
   "execution_count": null,
   "id": "08ab6fb1",
   "metadata": {},
   "outputs": [],
   "source": [
    "Ans:File objects need to be opened in read-binary ('rb') for reader objects and write-binary ('wb') fro writer objects"
   ]
  },
  {
   "cell_type": "code",
   "execution_count": null,
   "id": "a61010db",
   "metadata": {},
   "outputs": [],
   "source": [
    "4. What method takes a list argument and writes it to a CSV file?"
   ]
  },
  {
   "cell_type": "code",
   "execution_count": null,
   "id": "adf8665b",
   "metadata": {},
   "outputs": [],
   "source": [
    "Ans: The writerrow() method."
   ]
  },
  {
   "cell_type": "code",
   "execution_count": null,
   "id": "0f9fc245",
   "metadata": {},
   "outputs": [],
   "source": [
    "5.What do the keyword arguments delimiter and line terminator do?"
   ]
  },
  {
   "cell_type": "code",
   "execution_count": null,
   "id": "32a5c4fc",
   "metadata": {},
   "outputs": [],
   "source": [
    "Ans: The delimeter argument change the string used to separate cells in a row. \n",
    "     The lineterminator argument changes the string used to separate rows."
   ]
  },
  {
   "cell_type": "code",
   "execution_count": null,
   "id": "7ba19881",
   "metadata": {},
   "outputs": [],
   "source": [
    "6.The delimeter argument change the string used to separate cells in a row. The lineterminator argument changes the string used to separate rows."
   ]
  },
  {
   "cell_type": "code",
   "execution_count": null,
   "id": "be329503",
   "metadata": {},
   "outputs": [],
   "source": [
    "Ans: json.loads()"
   ]
  },
  {
   "cell_type": "code",
   "execution_count": null,
   "id": "0ca3fbfe",
   "metadata": {},
   "outputs": [],
   "source": [
    "7. What function takes a Python data structure and returns a string of JSON data?"
   ]
  },
  {
   "cell_type": "code",
   "execution_count": null,
   "id": "2441e89d",
   "metadata": {},
   "outputs": [],
   "source": [
    "Ans: json.dumps()"
   ]
  }
 ],
 "metadata": {
  "kernelspec": {
   "display_name": "Python 3 (ipykernel)",
   "language": "python",
   "name": "python3"
  },
  "language_info": {
   "codemirror_mode": {
    "name": "ipython",
    "version": 3
   },
   "file_extension": ".py",
   "mimetype": "text/x-python",
   "name": "python",
   "nbconvert_exporter": "python",
   "pygments_lexer": "ipython3",
   "version": "3.9.7"
  }
 },
 "nbformat": 4,
 "nbformat_minor": 5
}
